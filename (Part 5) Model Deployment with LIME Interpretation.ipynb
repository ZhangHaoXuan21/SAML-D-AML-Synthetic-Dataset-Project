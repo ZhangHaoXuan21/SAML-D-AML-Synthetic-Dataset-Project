{
 "cells": [
  {
   "cell_type": "code",
   "execution_count": 1,
   "id": "42ad9795-7aca-4012-b1be-6161bdf9c8b8",
   "metadata": {},
   "outputs": [],
   "source": [
    "import numpy as np\n",
    "import pandas as pd\n",
    "import matplotlib.pyplot as plt\n",
    "import seaborn as sns\n",
    "import networkx as nx\n",
    "# Set display option to show all columns\n",
    "pd.set_option('display.max_columns', None)"
   ]
  },
  {
   "cell_type": "markdown",
   "id": "e36f0898-8ed2-4403-94a8-828a6893afde",
   "metadata": {},
   "source": [
    "# 1. Load Neccesary Data and Model"
   ]
  },
  {
   "cell_type": "markdown",
   "id": "1b23ce24-b1eb-464c-9f26-751174196860",
   "metadata": {},
   "source": [
    "## 1.1 Load the XGBoost Voting Classifier"
   ]
  },
  {
   "cell_type": "code",
   "execution_count": 2,
   "id": "9909084b-6a5a-4325-bb55-c13f4f44c32a",
   "metadata": {},
   "outputs": [],
   "source": [
    "import pickle\n",
    "import xgboost as xgb\n",
    "from aml_model import XGBoostVotingClassifier\n",
    "# Load the model from the file\n",
    "with open(\"xgboost_voter_model.pkl\", \"rb\") as f:\n",
    "    xgboost_voter = pickle.load(f)"
   ]
  },
  {
   "cell_type": "markdown",
   "id": "a3d02149-5ca0-43dd-9fc5-81b163e09d6e",
   "metadata": {},
   "source": [
    "## 1.2 Load Model Feature Columns"
   ]
  },
  {
   "cell_type": "code",
   "execution_count": 3,
   "id": "3aff8413-ad7f-407c-825e-e6993ab408a3",
   "metadata": {},
   "outputs": [],
   "source": [
    "# select a few transaction features and top 15 important features from xgboost_voter for retraining\n",
    "import pickle\n",
    "\n",
    "# Load the feature list from the file\n",
    "with open(\"selected_columns.pkl\", \"rb\") as f:\n",
    "    selected_columns = pickle.load(f)"
   ]
  },
  {
   "cell_type": "markdown",
   "id": "5270a8ef-df2a-4ff5-a55a-2868d85c298c",
   "metadata": {},
   "source": [
    "## 1.3 Load the Test Dataframe"
   ]
  },
  {
   "cell_type": "code",
   "execution_count": 4,
   "id": "44f10605-dda8-4fd5-a7b6-60a537e19ad1",
   "metadata": {},
   "outputs": [],
   "source": [
    "test_df = pd.read_feather('test.feather')"
   ]
  },
  {
   "cell_type": "code",
   "execution_count": 5,
   "id": "0edb5383-1337-47e8-a93d-e30a9fcae575",
   "metadata": {},
   "outputs": [
    {
     "name": "stdout",
     "output_type": "stream",
     "text": [
      "Number of Testing samples: 2851456\n"
     ]
    }
   ],
   "source": [
    "print(f\"Number of Testing samples: {len(test_df)}\")"
   ]
  },
  {
   "cell_type": "markdown",
   "id": "a41a1e93-f6a3-44b5-948c-c718660ee5bf",
   "metadata": {},
   "source": [
    "## 1.4 Load the LIME Explainer"
   ]
  },
  {
   "cell_type": "code",
   "execution_count": 6,
   "id": "69627f54-98ba-4ef4-8a7c-a16b070d7b41",
   "metadata": {},
   "outputs": [],
   "source": [
    "import dill\n",
    "import numpy as np\n",
    "import lime\n",
    "import lime.lime_tabular\n",
    "from __future__ import print_function\n",
    "np.random.seed(1)\n",
    "\n",
    "# Load the model from the file\n",
    "file_path = \"lime_explainer.pkl\"\n",
    "with open(file_path, \"rb\") as f:\n",
    "    lime_explainer = dill.load(f)"
   ]
  },
  {
   "cell_type": "markdown",
   "id": "ec61c340-df49-463e-9a8f-29cac2e77592",
   "metadata": {},
   "source": [
    "# 2. Develop Explaination Module"
   ]
  },
  {
   "cell_type": "markdown",
   "id": "9e0ea39f-15a1-49ed-854b-308170ce876c",
   "metadata": {},
   "source": [
    "## 2.1 Randomly Select Suspicious Transaction from Testing Dataframe"
   ]
  },
  {
   "cell_type": "code",
   "execution_count": 7,
   "id": "d3bbb999-d249-4ac5-bdcb-9d52141744df",
   "metadata": {},
   "outputs": [],
   "source": [
    "trans_df = pd.read_feather('trans_df.feather')"
   ]
  },
  {
   "cell_type": "code",
   "execution_count": 8,
   "id": "faf63ffa-b231-41fb-a28b-a795eebca45b",
   "metadata": {},
   "outputs": [],
   "source": [
    "trans_df = trans_df[['Transaction_id', 'Hour',\n",
    "       'Minute', 'Date', 'Year', 'Month', 'Day', 'Sender_account',\n",
    "       'Receiver_account', 'Amount', 'Amount_USD', 'Payment_currency',\n",
    "       'Received_currency', 'Sender_bank_location', 'Receiver_bank_location',\n",
    "       'Payment_type']]"
   ]
  },
  {
   "cell_type": "code",
   "execution_count": 9,
   "id": "a8286146-4fec-4652-932b-d274c8f92aef",
   "metadata": {},
   "outputs": [],
   "source": [
    "mask = test_df['Is_laundering'] == 1\n",
    "testing_transactions_id = test_df[mask]['Transaction_id'].to_list()"
   ]
  },
  {
   "cell_type": "code",
   "execution_count": 10,
   "id": "94c0af4d-e91f-469c-b7a1-bf0345691f6e",
   "metadata": {},
   "outputs": [],
   "source": [
    "import pandas as pd\n",
    "\n",
    "def create_table(df):\n",
    "    # Transpose the DataFrame to swap rows and columns\n",
    "    transposed_df = df.transpose()\n",
    "    \n",
    "    # Rename the index to 'Column_Name'\n",
    "    transposed_df.index.name = 'Column_Name'\n",
    "    \n",
    "    # Reset the index to make 'Column_Name' a regular column\n",
    "    transposed_df.reset_index(inplace=True)\n",
    "    \n",
    "    # Rename the column containing the row values to 'Column_Value'\n",
    "    transposed_df.columns = ['Column_Name', 'Column_Value']\n",
    "    \n",
    "    return transposed_df\n",
    "\n",
    "# Create a function to get transaction information\n",
    "def get_trans_info_and_trans_features(info_df, feat_df, choice, transaction_id_list, selected_columns):\n",
    "    \n",
    "    if choice == \"random\":\n",
    "        trans_id = np.random.choice(transaction_id_list)\n",
    "        \n",
    "        mask1 =info_df['Transaction_id'] == trans_id\n",
    "\n",
    "        transaction_info = info_df[mask1]\n",
    "        \n",
    "        mask2 = feat_df['Transaction_id'] == trans_id\n",
    "\n",
    "        transaction_features = feat_df[mask2]\n",
    "        \n",
    "        return create_table(transaction_info), create_table(transaction_features[selected_columns])\n",
    "        \n",
    "    else:\n",
    "        print(f\"These are the suspicious transaction list: {transaction_id_list}\")\n",
    "        \n",
    "        trans_id = input('Enter the Transaction ID: ')\n",
    "        \n",
    "        mask1 = info_df['Transaction_id'] == trans_id\n",
    "\n",
    "        transaction_info = info_df[mask1]\n",
    "        \n",
    "        mask2 = feat_df['Transaction_id'] == trans_id\n",
    "\n",
    "        transaction_features = feat_df[mask2]\n",
    "        \n",
    "        return create_table(transaction_info), create_table(transaction_features[selected_columns])\n",
    "        \n",
    "transaction_info, transaction_features = get_trans_info_and_trans_features(info_df=trans_df, feat_df=test_df,\n",
    "                                                                           choice=\"random\", transaction_id_list=testing_transactions_id,\n",
    "                                                                           selected_columns=selected_columns)\n"
   ]
  },
  {
   "cell_type": "code",
   "execution_count": 11,
   "id": "34ad8120-549c-4707-8145-a4183bb56604",
   "metadata": {},
   "outputs": [],
   "source": [
    "test_transaction = transaction_features['Column_Value'].values"
   ]
  },
  {
   "cell_type": "code",
   "execution_count": 12,
   "id": "14e146e3-8048-4f33-86c9-18a16f1081ca",
   "metadata": {},
   "outputs": [],
   "source": [
    "num_features = 10\n",
    "exp = lime_explainer.explain_instance(test_transaction, xgboost_voter.predict_proba, num_features=num_features)\n",
    "#exp.show_in_notebook(show_table=True, show_all=True)"
   ]
  },
  {
   "cell_type": "code",
   "execution_count": 23,
   "id": "5dfc56ff-0fb1-4f36-a204-79628faab245",
   "metadata": {},
   "outputs": [
    {
     "data": {
      "image/png": "[encoded data removed]",
      "text/plain": [
       "<Figure size 1000x600 with 1 Axes>"
      ]
     },
     "metadata": {},
     "output_type": "display_data"
    }
   ],
   "source": [
    "condition_boundaries_dict = {\n",
    "    'feature_name':[],\n",
    "    'feature_value':[],\n",
    "    'feature_contribution_score':[]\n",
    "}\n",
    "\n",
    "for column_index, feature_importance_score in exp.as_map()[1]:\n",
    "    feature_name = transaction_features.iloc[column_index]['Column_Name']\n",
    "    \n",
    "    feature_value = transaction_features.iloc[column_index]['Column_Value']\n",
    "    \n",
    "    feature_importance_score = np.round(feature_importance_score * 100)\n",
    "    \n",
    "    if feature_importance_score > 0:\n",
    "        condition_boundaries_dict['feature_name'].append(feature_name)\n",
    "\n",
    "        condition_boundaries_dict['feature_value'].append(feature_value)\n",
    "        \n",
    "        condition_boundaries_dict['feature_contribution_score'].append(feature_importance_score)\n",
    "\n",
    "contribution_df = pd.DataFrame(condition_boundaries_dict)\n",
    "# Sort the dataframe by feature_importance_score\n",
    "contribution_df = contribution_df.sort_values(by='feature_contribution_score', ascending=False)\n",
    "\n",
    "#============================================================================================================\n",
    "# PART 1: Show Graph\n",
    "#============================================================================================================\n",
    "import matplotlib.pyplot as plt\n",
    "import seaborn as sns\n",
    "\n",
    "import matplotlib.pyplot as plt\n",
    "import seaborn as sns\n",
    "\n",
    "def create_feature_contribution_pic(contribution_df, filename):\n",
    "    # Create the horizontal bar plot\n",
    "    plt.figure(figsize=(10, 6))  # Adjust figure size as needed\n",
    "    sns.barplot(y='feature_contribution_score', x='feature_name', data=contribution_df, color='skyblue')\n",
    "    \n",
    "    # Add titles and labels\n",
    "    plt.title('Feature Contribution Scores')\n",
    "    plt.xlabel('Feature Name')\n",
    "    plt.ylabel('Feature Contribution Score')\n",
    "    plt.xticks(rotation=45)\n",
    "    \n",
    "    # Save the plot\n",
    "    plt.tight_layout()\n",
    "    plt.savefig(filename)\n",
    "\n",
    "\n",
    "# Example usage:\n",
    "feature_importance_scores = contribution_df['feature_contribution_score'].to_list()\n",
    "model_name = \"XGBoost Voter Model\"\n",
    "sender_account = transaction_info[transaction_info['Column_Name'] == 'Sender_account']['Column_Value'].values[0]\n",
    "receiver_account = transaction_info[transaction_info['Column_Name'] == 'Receiver_account']['Column_Value'].values[0]\n",
    "create_feature_contribution_pic(contribution_df, filename=\"feature_contribution.png\")\n"
   ]
  },
  {
   "cell_type": "markdown",
   "id": "5557e3f0-2188-4f1c-b5e5-9f9e696f117a",
   "metadata": {},
   "source": [
    "# Play around with python-docx"
   ]
  },
  {
   "cell_type": "code",
   "execution_count": 27,
   "id": "748f5993-f290-40a5-a9a8-6b9a383525b8",
   "metadata": {},
   "outputs": [
    {
     "data": {
      "application/vnd.jupyter.widget-view+json": {
       "model_id": "224711d14daa4df397b68fa6a44e4f12",
       "version_major": 2,
       "version_minor": 0
      },
      "text/plain": [
       "  0%|          | 0/1 [00:00<?, ?it/s]"
      ]
     },
     "metadata": {},
     "output_type": "display_data"
    }
   ],
   "source": [
    "from docx import Document\n",
    "from docx.shared import Inches\n",
    "from docx2pdf import convert\n",
    "\n",
    "def create_table_with_spacing(transaction_info, document):\n",
    "    # Create a table with the appropriate number of rows and columns\n",
    "    table = document.add_table(rows=1, cols=transaction_info.shape[1])\n",
    "\n",
    "    # Set table style to 'Table Grid'\n",
    "    table.style = 'Table Grid'\n",
    "\n",
    "    # Set the table borders to a darker color and add spacing\n",
    "    for row in table.rows:\n",
    "        for cell in row.cells:\n",
    "            cell.paragraphs[0].paragraph_format.space_after = Pt(6)  # Adjust spacing as needed\n",
    "            for paragraph in cell.paragraphs:\n",
    "                for run in paragraph.runs:\n",
    "                    run.font.color.rgb = (0x00, 0x00, 0x00)  # Setting font color to black\n",
    "\n",
    "    # Add column headers to the table\n",
    "    hdr_cells = table.rows[0].cells\n",
    "    for i, col in enumerate(transaction_info.columns):\n",
    "        hdr_cells[i].text = col\n",
    "\n",
    "    # Add data rows to the table\n",
    "    for _, row in transaction_info.iterrows():\n",
    "        row_cells = table.add_row().cells\n",
    "        for i, value in enumerate(row):\n",
    "            row_cells[i].text = str(value)\n",
    "\n",
    "def create_table_with_dark_lines(transaction_info, document):\n",
    "    # Create a table with the appropriate number of rows and columns\n",
    "    table = document.add_table(rows=1, cols=transaction_info.shape[1])\n",
    "\n",
    "    # Set table style to 'Table Grid'\n",
    "    table.style = 'Table Grid'\n",
    "\n",
    "    # Set the table borders to a darker color\n",
    "    for row in table.rows:\n",
    "        for cell in row.cells:\n",
    "            for paragraph in cell.paragraphs:\n",
    "                for run in paragraph.runs:\n",
    "                    run.font.color.rgb = (0x00, 0x00, 0x00)  # Setting font color to black\n",
    "\n",
    "    # Add column headers to the table\n",
    "    hdr_cells = table.rows[0].cells\n",
    "    for i, col in enumerate(transaction_info.columns):\n",
    "        hdr_cells[i].text = col\n",
    "\n",
    "    # Add data rows to the table\n",
    "    for _, row in transaction_info.iterrows():\n",
    "        row_cells = table.add_row().cells\n",
    "        for i, value in enumerate(row):\n",
    "            row_cells[i].text = str(value)\n",
    "\n",
    "def generate_aml_report(docx_file, contribution_df, feature_importance_scores, model_name, transaction_features, transaction_info,\n",
    "                        sender_account, receiver_account):\n",
    "    \"\"\"\n",
    "    Generate an explanation prompt for AML compliance officers based on features names and feature importance scores.\n",
    "\n",
    "    Parameters:\n",
    "\n",
    "    Returns:\n",
    "    str: Explanation prompt.\n",
    "    \"\"\"\n",
    "    #=======================================================================================================\n",
    "    # Intro Prompt\n",
    "    #=======================================================================================================\n",
    "\n",
    "    document = Document()\n",
    "\n",
    "    document.add_heading('Suspicious Transaction Alert', 0)\n",
    "    \n",
    "    explanation = \"Dear AML Compliance Officer,\\n\\n\"\n",
    "    explanation += f\"The transaction between sender_account {sender_account}\\\n",
    " and receiver_account {receiver_account} has been flagged as \"\n",
    "    p = document.add_paragraph(explanation)\n",
    "    explanation = \" Details will be listed in PART A (transaction information), PART B (transaction features), and PART C (model justification).\"\n",
    "    p.add_run('suspicious.').bold = True\n",
    "    p.add_run(explanation)\n",
    "\n",
    "    \n",
    "\n",
    "    #=======================================================================================================\n",
    "    # PART A (Transaction Information) Prompt\n",
    "    #=======================================================================================================\n",
    "\n",
    "    explanation = \"PART A (Transaction Information)\"\n",
    "    document.add_heading(explanation, level=1)\n",
    "    \n",
    "    explanation = \"Transaction Information Table\"\n",
    "    p = document.add_paragraph(explanation)\n",
    "\n",
    "    create_table_with_dark_lines(transaction_info, document)\n",
    "\n",
    "    #=======================================================================================================\n",
    "    # PART B (Transaction Features) Prompt\n",
    "    #=======================================================================================================\n",
    "\n",
    "    explanation = \"PART B (Transaction Features)\"\n",
    "    document.add_heading(explanation, level=1)\n",
    "    \n",
    "    explanation = \"Transaction Features Table\"\n",
    "    p = document.add_paragraph(explanation)\n",
    "\n",
    "    create_table_with_dark_lines(transaction_features, document)\n",
    "\n",
    "    #=======================================================================================================\n",
    "    # PART c (Model Justification) Prompt\n",
    "    #=======================================================================================================\n",
    "\n",
    "    explanation = \"PART C (Model Justification)\"\n",
    "    document.add_heading(explanation, level=1)\n",
    "    \n",
    "    explanation = \"Feature Contribution Score Table\"\n",
    "    p = document.add_paragraph(explanation)\n",
    "\n",
    "    create_table_with_dark_lines(contribution_df, document)\n",
    "            \n",
    "    p = document.add_paragraph(\"\\n\")\n",
    "    document.add_picture('feature_contribution.png', width=Inches(6))\n",
    "                               \n",
    "    explanation = \"Explanation:\\n\\\n",
    "The A.I. identified the above features as significant for predicting suspicious transactions, based on their contribution scores.\\\n",
    " Higher scores indicate greater influence on the prediction outcome. \"\n",
    "    explanation += \"\\n\"\n",
    "    p = document.add_paragraph(explanation)\n",
    "\n",
    "    #=======================================================================================================\n",
    "    # Ending Prompt\n",
    "    #=======================================================================================================\n",
    "    explanation = \"\\nThe combinination of these conditions raises concerns about the transaction's nature. Further investigation is warranted to ensure compliance with anti-money laundering regulations.\\n\\n\"\n",
    "    explanation += \"Please let me know if you require any further information or assistance regarding this matter.\\n\\n\"\n",
    "    explanation += \"Sincerely,\\n[Python Developer]\"\n",
    "    \n",
    "    p = document.add_paragraph(explanation)\n",
    "\n",
    "    \n",
    "    # Final part\n",
    "    document.add_page_break()\n",
    "\n",
    "    document.save(docx_file)\n",
    "\n",
    "docx_file = \"Suspicious_Transaction_Alert.docx\"\n",
    "generate_aml_report(docx_file, contribution_df, feature_importance_scores, \n",
    "                    model_name, transaction_features, transaction_info,\n",
    "                    sender_account, receiver_account)    \n",
    "\n",
    "\n",
    "# Path to the DOCX file\n",
    "docx_file = \"Suspicious_Transaction_Alert.docx\"\n",
    "\n",
    "# Convert DOCX to PDF\n",
    "convert(docx_file)"
   ]
  },
  {
   "cell_type": "code",
   "execution_count": null,
   "id": "805fa8a8-de77-4630-8ac4-bab63c744b89",
   "metadata": {},
   "outputs": [],
   "source": []
  },
  {
   "cell_type": "code",
   "execution_count": null,
   "id": "43298971-1b30-4736-80e5-defcf5d4863a",
   "metadata": {},
   "outputs": [],
   "source": []
  },
  {
   "cell_type": "code",
   "execution_count": null,
   "id": "623671e5-afa6-4525-a56e-5b5668dc7018",
   "metadata": {},
   "outputs": [],
   "source": []
  },
  {
   "cell_type": "code",
   "execution_count": null,
   "id": "9da365df-39e7-41c1-8055-dc5082271e8d",
   "metadata": {},
   "outputs": [],
   "source": []
  },
  {
   "cell_type": "code",
   "execution_count": null,
   "id": "7d07bbe8-18a3-4c63-a74c-b049670b75ea",
   "metadata": {},
   "outputs": [],
   "source": []
  },
  {
   "cell_type": "code",
   "execution_count": null,
   "id": "aee5aed8-8648-498b-8e07-2c4bf86b5481",
   "metadata": {},
   "outputs": [],
   "source": []
  }
 ],
 "metadata": {
  "kernelspec": {
   "display_name": "Python 3 (ipykernel)",
   "language": "python",
   "name": "python3"
  },
  "language_info": {
   "codemirror_mode": {
    "name": "ipython",
    "version": 3
   },
   "file_extension": ".py",
   "mimetype": "text/x-python",
   "name": "python",
   "nbconvert_exporter": "python",
   "pygments_lexer": "ipython3",
   "version": "3.9.18"
  }
 },
 "nbformat": 4,
 "nbformat_minor": 5
}
